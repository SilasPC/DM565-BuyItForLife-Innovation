{
 "cells": [
  {
   "cell_type": "code",
   "execution_count": 1,
   "metadata": {},
   "outputs": [],
   "source": [
    "import database as db\n",
    "from selenium import webdriver\n",
    "from selenium.webdriver.common import *\n",
    "from selenium.webdriver.chrome.options import Options\n",
    "from selenium.webdriver.chrome.service import Service\n",
    "from webdriver_manager.chrome import ChromeDriverManager\n",
    "from tqdm import tqdm\n",
    "import scrape_dba\n",
    "import scrape_youtube\n",
    "import scrape_reddit\n",
    "\n",
    "num_scrolls = 10\n",
    "\n",
    "####################################\n",
    "######### SELENIUM STARTUP #########\n",
    "####################################\n",
    "\n",
    "options = Options()\n",
    "#options.add_argument('--headless')\n",
    "options.add_argument('--no-sandbox')\n",
    "options.add_argument('--disable-dev-shm-usage')\n",
    "options.add_argument(\"--remote-debugging-port=9222\")\n",
    "driver = webdriver.Chrome(service=Service(ChromeDriverManager().install()), options=options)\n",
    "\n",
    "conn = db.connect()\n"
   ]
  },
  {
   "cell_type": "code",
   "execution_count": 2,
   "metadata": {},
   "outputs": [],
   "source": [
    "\n",
    "from selenium.webdriver.common.by import By\n",
    "from time import sleep\n",
    "from tqdm import tqdm\n",
    "\n",
    "driver.get(\"https://www.youtube.com/results?search_query=restoration+videos\")\n",
    "posts = driver.find_elements(By.CSS_SELECTOR, \"ytd-video-renderer\")\n"
   ]
  },
  {
   "cell_type": "code",
   "execution_count": 9,
   "metadata": {},
   "outputs": [
    {
     "name": "stdout",
     "output_type": "stream",
     "text": [
      "https://i.ytimg.com/vi/x1m1rFBZYEs/hq720.jpg?sqp=-oaymwEcCOgCEMoBSFXyq4qpAw4IARUAAIhCGAFwAcABBg==&rs=AOn4CLCf5wDmK-vN8ke8-T5B5o2oOA1DHw Restoration - Iron American Machine CROWN 1875\n"
     ]
    }
   ],
   "source": [
    "post = posts[0]\n",
    "img = post.find_element(By.CSS_SELECTOR, \"ytd-thumbnail yt-image img\")\n",
    "img = img.get_attribute(\"src\")\n",
    "title = post.find_element(By.CSS_SELECTOR, \"#video-title\")\n",
    "title = title.get_attribute(\"innerText\")\n",
    "print(img,title)\n"
   ]
  }
 ],
 "metadata": {
  "kernelspec": {
   "display_name": "Python 3",
   "language": "python",
   "name": "python3"
  },
  "language_info": {
   "codemirror_mode": {
    "name": "ipython",
    "version": 3
   },
   "file_extension": ".py",
   "mimetype": "text/x-python",
   "name": "python",
   "nbconvert_exporter": "python",
   "pygments_lexer": "ipython3",
   "version": "3.10.6 (main, Nov 14 2022, 16:10:14) [GCC 11.3.0]"
  },
  "orig_nbformat": 4,
  "vscode": {
   "interpreter": {
    "hash": "916dbcbb3f70747c44a77c7bcd40155683ae19c65e1c03b4aa3499c5328201f1"
   }
  }
 },
 "nbformat": 4,
 "nbformat_minor": 2
}
